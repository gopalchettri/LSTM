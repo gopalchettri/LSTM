{
 "cells": [
  {
   "cell_type": "code",
   "execution_count": 1,
   "id": "df71786b",
   "metadata": {},
   "outputs": [],
   "source": [
    "# importing required libraries\n",
    "\n",
    "import numpy as np\n",
    "from random import random\n",
    "\n",
    "from tensorflow.keras.models import Sequential\n",
    "from tensorflow.keras.layers import Conv2D\n",
    "from tensorflow.keras.layers import MaxPooling2D\n",
    "from tensorflow.keras.layers import LSTM\n",
    "from tensorflow.keras.layers import Dense\n",
    "from tensorflow.keras.layers import Flatten\n",
    "from tensorflow.keras.layers import TimeDistributed\n",
    "\n",
    "import time"
   ]
  },
  {
   "cell_type": "code",
   "execution_count": 2,
   "id": "d65cbe17",
   "metadata": {},
   "outputs": [],
   "source": [
    "# generate the  next frame in the sequence\n",
    "\n",
    "def next_frame(last_step, last_frame, column):\n",
    "    # define the scope of the next step\n",
    "    lower = max(0, last_step - 1)\n",
    "    upper = min(last_frame.shape[0] - 1, last_step + 1)\n",
    "    \n",
    "    #choose the row index for the next step\n",
    "    step = np.random.randint(lower, upper)\n",
    "    \n",
    "    # copy the prior frame\n",
    "    frame = last_frame.copy()\n",
    "    \n",
    "    # copy the new step\n",
    "    frame[step, column] = 1\n",
    "    \n",
    "    return frame, step"
   ]
  },
  {
   "cell_type": "code",
   "execution_count": 3,
   "id": "84333eba",
   "metadata": {},
   "outputs": [],
   "source": [
    "# generate a sequence of frames of a dot moving across an image\n",
    "\n",
    "def build_frames(size):\n",
    "    frames = list()\n",
    "    # create the first frame\n",
    "    frame = np.zeros((size, size))\n",
    "    step = np.random.randint(0, size - 1)\n",
    "    # decide if we are heading left or right\n",
    "    right = 1 if random() < 0.5 else 0\n",
    "    col = 0 if right else size - 1\n",
    "    frame[step, col] = 1\n",
    "    frames.append(frame)\n",
    "    \n",
    "    # create all remaining frames\n",
    "    for i in range(1, size):\n",
    "        col = i if right else size - 1 - i\n",
    "        frame, step = next_frame(step, frame, col)\n",
    "        frames.append(frame)\n",
    "    return frames, right"
   ]
  },
  {
   "cell_type": "code",
   "execution_count": 4,
   "id": "f3ad884c",
   "metadata": {},
   "outputs": [],
   "source": [
    "# generate multiple sequences of frames and reshape for network input\n",
    "\n",
    "def generate_examples(size, n_patterns):\n",
    "    X, y = list(), list()\n",
    "    for _ in range(n_patterns):\n",
    "        frames, right = build_frames(size)\n",
    "        X.append(frames)\n",
    "        y.append(right)\n",
    "    \n",
    "    # resize as [samples, timesteps, width, height, channels]\n",
    "    X = np.array(X).reshape(n_patterns, size, size, size, 1)\n",
    "    y = np.array(y).reshape(n_patterns, 1)\n",
    "    return X, y"
   ]
  },
  {
   "cell_type": "code",
   "execution_count": 5,
   "id": "3c9bcd40",
   "metadata": {},
   "outputs": [
    {
     "name": "stdout",
     "output_type": "stream",
     "text": [
      "Model: \"sequential\"\n",
      "_________________________________________________________________\n",
      "Layer (type)                 Output Shape              Param #   \n",
      "=================================================================\n",
      "time_distributed (TimeDistri (None, None, 49, 49, 2)   10        \n",
      "_________________________________________________________________\n",
      "time_distributed_1 (TimeDist (None, None, 24, 24, 2)   0         \n",
      "_________________________________________________________________\n",
      "time_distributed_2 (TimeDist (None, None, 1152)        0         \n",
      "_________________________________________________________________\n",
      "lstm (LSTM)                  (None, 50)                240600    \n",
      "_________________________________________________________________\n",
      "dense (Dense)                (None, 1)                 51        \n",
      "=================================================================\n",
      "Total params: 240,661\n",
      "Trainable params: 240,661\n",
      "Non-trainable params: 0\n",
      "_________________________________________________________________\n",
      "None\n"
     ]
    }
   ],
   "source": [
    "# define the model\n",
    "\n",
    "size = 50\n",
    "\n",
    "model = Sequential()\n",
    "model.add(TimeDistributed(Conv2D(filters=2, kernel_size=(2,2), activation='relu'), input_shape=(None, size, size, 1)))\n",
    "model.add(TimeDistributed(MaxPooling2D(pool_size=(2,2))))\n",
    "model.add(TimeDistributed(Flatten()))\n",
    "model.add(LSTM(units=50))\n",
    "model.add(Dense(1, activation='sigmoid'))\n",
    "model.compile(loss='binary_crossentropy', optimizer='adam', metrics=['accuracy'])\n",
    "print(model.summary())\n"
   ]
  },
  {
   "cell_type": "code",
   "execution_count": 6,
   "id": "ef40ca88",
   "metadata": {},
   "outputs": [
    {
     "name": "stdout",
     "output_type": "stream",
     "text": [
      "157/157 [==============================] - 25s 28ms/step - loss: 0.0591 - accuracy: 0.9808\n",
      "Time Taken : 166.95120000839233\n"
     ]
    }
   ],
   "source": [
    "# fit the model\n",
    "start_time = time.time()\n",
    "\n",
    "X, y = generate_examples(size, 5000)\n",
    "model.fit(X, y, batch_size=32, epochs=1)\n",
    "\n",
    "print('Time Taken :', time.time() - start_time)"
   ]
  },
  {
   "cell_type": "code",
   "execution_count": 7,
   "id": "cada8669",
   "metadata": {},
   "outputs": [
    {
     "name": "stdout",
     "output_type": "stream",
     "text": [
      "4/4 [==============================] - 1s 59ms/step - loss: 7.0744e-04 - accuracy: 1.0000\n",
      "loss 0.000707, accuracy: 1.000000\n"
     ]
    }
   ],
   "source": [
    "# evaluate the model\n",
    "X, y = generate_examples(size, 100)\n",
    "loss, accuracy = model.evaluate(X, y, verbose=1)\n",
    "print('loss %f, accuracy: %f' %(loss, accuracy))"
   ]
  },
  {
   "cell_type": "code",
   "execution_count": 10,
   "id": "f1228de4",
   "metadata": {},
   "outputs": [
    {
     "name": "stdout",
     "output_type": "stream",
     "text": [
      "1/1 [==============================] - 0s 33ms/step\n",
      "Expected : Left, Predicted : Left\n"
     ]
    }
   ],
   "source": [
    "# prediction on new data\n",
    "\n",
    "X, y = generate_examples(size, 1)\n",
    "yhat = model.predict(X, verbose=1)\n",
    "expected = \"Right\" if y[0] == 1 else \"Left\"\n",
    "predicted = \"Right\" if yhat[0] == 1 else \"Left\"\n",
    "\n",
    "print(\"Expected : %s, Predicted : %s\" %(expected, predicted))"
   ]
  },
  {
   "cell_type": "code",
   "execution_count": null,
   "id": "4760cc76",
   "metadata": {},
   "outputs": [],
   "source": []
  }
 ],
 "metadata": {
  "kernelspec": {
   "display_name": "tf-gpu-26",
   "language": "python",
   "name": "tf-gpu-26"
  },
  "language_info": {
   "codemirror_mode": {
    "name": "ipython",
    "version": 3
   },
   "file_extension": ".py",
   "mimetype": "text/x-python",
   "name": "python",
   "nbconvert_exporter": "python",
   "pygments_lexer": "ipython3",
   "version": "3.9.7"
  }
 },
 "nbformat": 4,
 "nbformat_minor": 5
}
